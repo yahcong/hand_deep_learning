{
 "cells": [
  {
   "cell_type": "markdown",
   "metadata": {},
   "source": [
    "# Logistic Regression with a Neural Network mindset"
   ]
  },
  {
   "cell_type": "code",
   "execution_count": 82,
   "metadata": {
    "collapsed": true
   },
   "outputs": [],
   "source": [
    "import numpy as np \n",
    "import matplotlib.pyplot as plt \n",
    "import h5py \n",
    "import scipy \n",
    "from PIL import Image \n",
    "from scipy import ndimage \n",
    "from lr_utils import load_dataset"
   ]
  },
  {
   "cell_type": "code",
   "execution_count": 83,
   "metadata": {},
   "outputs": [
    {
     "name": "stdout",
     "output_type": "stream",
     "text": [
      "Number of training examples: m_train = 209\n",
      "Number of testing examples: m_test = 50\n",
      "Height/Width of each image: num_px = 64\n",
      "Each image is of size: (64, 64, 3)\n",
      "train_set_x shape: (209, 64, 64, 3)\n",
      "train_set_y shape: (1, 209)\n",
      "test_set_x shape: (50, 64, 64, 3)\n",
      "test_set_y shape: (1, 50)\n"
     ]
    }
   ],
   "source": [
    "#请访问http://www.missshi.cn/#/books搜索train_catvnoncat.h5和test_catvnoncat.h5进行下载\n",
    "# Loading the data (cat/non-cat) \n",
    "train_set_x_orig, train_set_y, test_set_x_orig, test_set_y, classes = load_dataset()\n",
    "\n",
    "#• m_train (number of training examples) \n",
    "#• m_test (number of test examples) \n",
    "#• num_px (= height = width of a training image)\n",
    "### START CODE HERE ### (￿ 3 lines of code)\n",
    "m_train = train_set_x_orig.shape[0] \n",
    "m_test = test_set_x_orig.shape[0]\n",
    "num_px = train_set_x_orig.shape[1]\n",
    "### END CODE HERE ###\n",
    "print (\"Number of training examples: m_train = \" + \n",
    "       str(m_train)) \n",
    "print (\"Number of testing examples: m_test = \" + \n",
    "       str(m_test)) \n",
    "print (\"Height/Width of each image: num_px = \" + \n",
    "       str(num_px)) \n",
    "print (\"Each image is of size: (\" + str(num_px) + \", \" + str(num_px) + \", 3)\")\n",
    "print (\"train_set_x shape: \" + str(train_set_x_orig.shape)) \n",
    "print (\"train_set_y shape: \" + str(train_set_y.shape)) \n",
    "print (\"test_set_x shape: \" + str(test_set_x_orig.shape)) \n",
    "print (\"test_set_y shape: \" + str(test_set_y.shape))"
   ]
  },
  {
   "cell_type": "code",
   "execution_count": 84,
   "metadata": {},
   "outputs": [
    {
     "name": "stdout",
     "output_type": "stream",
     "text": [
      "y = [1], it's a 'cat' picture.\n"
     ]
    }
   ],
   "source": [
    "# Example of a picture \n",
    "index = 25 \n",
    "plt.imshow(train_set_x_orig[index]) \n",
    "print (\"y = \" + str(train_set_y[:, index]) + \", it's a '\" + \n",
    "       classes[np.squeeze(train_set_y[:, index])].decode(\"utf-8\") + \n",
    "       \"' picture.\") "
   ]
  },
  {
   "cell_type": "code",
   "execution_count": 85,
   "metadata": {},
   "outputs": [
    {
     "name": "stdout",
     "output_type": "stream",
     "text": [
      "train_set_x_flatten shape: (12288, 209)\n",
      "train_set_y shape: (1, 209)\n",
      "test_set_x_flatten shape: (12288, 50)\n",
      "test_set_y shape: (1, 50)\n",
      "sanity check after reshaping: [17 31 56 22 33]\n"
     ]
    }
   ],
   "source": [
    "#这行不执行\n",
    "#X_flatten = X.reshape(-1,X.shape[0])\n",
    "\n",
    "# Reshape the training and test examples \n",
    "train_set_x_flatten = train_set_x_orig.reshape(train_set_x_orig.shape[0],-1).T\n",
    "test_set_x_flatten = test_set_x_orig.reshape(test_set_x_orig.shape[0],-1).T\n",
    "#\"Standardize\" the data\n",
    "#像素值分范围0-255，所以此处的“标准化”是都除以255\n",
    "train_set_x = train_set_x_flatten/255.\n",
    "test_set_x = test_set_x_flatten/255.\n",
    "#维度 \n",
    "#X:(num_px * num_px * 3,number of examples)\n",
    "#Y:(1, number of examples)\n",
    "print (\"train_set_x_flatten shape: \" + str(train_set_x_flatten.shape)) \n",
    "print (\"train_set_y shape: \" + str(train_set_y.shape)) \n",
    "print (\"test_set_x_flatten shape: \" + str(test_set_x_flatten.shape)) \n",
    "print (\"test_set_y shape: \" + str(test_set_y.shape))\n",
    "#下面这行代码是什么意思？\n",
    "print (\"sanity check after reshaping: \" + str(train_set_x_flatten[0:5,0]))"
   ]
  },
  {
   "cell_type": "code",
   "execution_count": 86,
   "metadata": {
    "collapsed": true
   },
   "outputs": [],
   "source": [
    "# GRADED FUNCTION: sigmoid \n",
    "def sigmoid(z): \n",
    "    \"\"\" \n",
    "    Compute the sigmoid of z\n",
    "    Arguments: \n",
    "    z -- A scalar or numpy array of any size\n",
    "    Return\n",
    "    s -- sigmoid(z) \n",
    "    \"\"\"\n",
    "    s = 1/(1+np.exp(-z))\n",
    "    return s"
   ]
  },
  {
   "cell_type": "code",
   "execution_count": 87,
   "metadata": {
    "collapsed": true
   },
   "outputs": [],
   "source": [
    "def initialize_with_zeros(dim): \n",
    "    \"\"\" \n",
    "    This function creates a vector of zeros of shape (dim, 1) for w and initializes b to 0.\n",
    "    Argument: \n",
    "    dim -- size of the w vector we want (or number of parameters in this case), →\n",
    "    Returns: \n",
    "    w -- initialized vector of shape (dim, 1) \n",
    "    b -- initialized scalar (corresponds to the bias) \n",
    "    为什么是(dim,1):\n",
    "    z=w1*x1+w2*x2+w3*x3+......wm*xm+b\n",
    "    yhat=sigmod(z)\n",
    "    \"\"\"\n",
    "    w = np.zeros((dim,1)) \n",
    "    b = 0\n",
    "    assert(w.shape == (dim, 1)) \n",
    "    assert(isinstance(b, float) or isinstance(b, int))\n",
    "    return w, b"
   ]
  },
  {
   "cell_type": "code",
   "execution_count": 88,
   "metadata": {
    "collapsed": true
   },
   "outputs": [],
   "source": [
    "# GRADED FUNCTION: propagate \n",
    "def propagate(w, b, X, Y): \n",
    "    \"\"\" \n",
    "    Implement the cost function and its gradient for the propagation explained above, →\n",
    "    Arguments: \n",
    "    w -- weights, a numpy array of size (num_px * num_px * 3, 1) \n",
    "    b -- bias, a scalar X -- data of size (num_px * num_px * 3, number of examples) \n",
    "    Y -- true \"label\" vector (containing 0 if non-cat, 1 if cat) of size (1, number of examples), →\n",
    "    Return: \n",
    "    cost -- negative log-likelihood cost for logistic regression \n",
    "    dw -- gradient of the loss with respect to w, thus same shape as w \n",
    "    db -- gradient of the loss with respect to b, thus same shape as b\n",
    "    Tips: - Write your code step by step for the propagation. np.log(), np.dot(), → \n",
    "    \"\"\"\n",
    "    m = X.shape[1]\n",
    "    # FORWARD PROPAGATION (FROM X TO COST) \n",
    "    A = sigmoid(np.dot(w.T,X)+b)\n",
    "    # compute activation \n",
    "    #cost=-1/m[∑(yilogai+(1-yi)log(1-ai)]\n",
    "    cost = -(np.dot(Y,np.log(A.T))+np.dot(np.log(1-A),(1-Y).T))/m \n",
    "    # compute cost, →\n",
    "    # BACKWARD PROPAGATION (TO FIND GRAD)\n",
    "    #单个样本：\n",
    "    #da=-y/a+(1-y)/(1-a)\n",
    "    #dz=a-y\n",
    "    #dw=dz*x\n",
    "    #db=dz\n",
    "    #m个样本：\n",
    "    #dZ=A-Y\n",
    "    #dW=(1/m)(X*dZ.T)\n",
    "    #db=(1/m)*(np.sum(dZ,axis=1,keepdims=True))\n",
    "    dw = np.dot(X,(A-Y).T)/m \n",
    "    db = np.sum(A-Y)/m\n",
    "    assert(dw.shape == w.shape) \n",
    "    assert(db.dtype == float) \n",
    "    cost = np.squeeze(cost) \n",
    "    assert(cost.shape == ())\n",
    "    grads = {\"dw\": dw, \"db\": db}\n",
    "    return grads, cost\n",
    "#X是输入的m个样本数据及其特征组成的矩阵\n",
    "#Y是m个样本的标签组成的矩阵"
   ]
  },
  {
   "cell_type": "code",
   "execution_count": 89,
   "metadata": {
    "collapsed": true
   },
   "outputs": [],
   "source": [
    "# GRADED FUNCTION: optimize\n",
    "def optimize(w, b, X, Y, num_iterations, learning_rate, print_cost = False): \n",
    "    \"\"\" \n",
    "    This function optimizes w and b by running a gradient descent algorithm, \n",
    "    Arguments: \n",
    "    w -- weights, a numpy array of size (num_px * num_px * 3, 1) \n",
    "    b -- bias, a scalar \n",
    "    X -- data of shape (num_px * num_px * 3, number of examples) \n",
    "    Y -- true \"label\" vector (containing 0 if non-cat, 1 if cat), of shape (1, number of examples), \n",
    "    num_iterations -- number of iterations of the optimization loop \n",
    "    learning_rate -- learning rate of the gradient descent update rule \n",
    "    print_cost -- True to print the loss every 100 steps\n",
    "    Returns: \n",
    "    params -- dictionary containing the weights w and bias b \n",
    "    grads -- dictionary containing the gradients of the weights and bias with respect to the cost function, → \n",
    "    costs -- list of all the costs computed during the optimization, this will be used to plot the learning curve., →\n",
    "    Tips: You basically need to write down two steps and iterate through them:\n",
    "        1) Calculate the cost and the gradient for the current parameters. Use propagate().\n",
    "        2) Update the parameters using gradient descent rule for w and b.\n",
    "    \"\"\"\n",
    "    costs = []\n",
    "    #迭代num_iterations次，w=w-a*dw，b=b-a*db，cost = -(np.dot(Y,np.log(A.T))+np.dot(np.log(1-A),(1-Y).T))/m，与Y和A有关，\n",
    "    #Y是固定量，但是每次迭代都改变A，即，A是学习变量。A = sigmoid(np.dot(w.T,X)+b)，每次迭代，都会改变w和b。\n",
    "    for i in range(num_iterations):\n",
    "        # Cost and gradient calculation (1-4 lines of code) \n",
    "        ### START CODE HERE ### \n",
    "        grads, cost = propagate(w, b, X, Y)\n",
    "        ### END CODE HERE ###\n",
    "        # Retrieve derivatives from grads \n",
    "        dw = grads[\"dw\"] \n",
    "        db = grads[\"db\"]\n",
    "        # update rule (2 lines of code) \n",
    "        ### START CODE HERE ###\n",
    "        #w=w-a*dw\n",
    "        #b=b-a*db\n",
    "        w = w-learning_rate*dw \n",
    "        b = b-learning_rate*db \n",
    "        ### END CODE HERE ###\n",
    "        # Record the costs \n",
    "        if i % 100 == 0: \n",
    "            costs.append(cost)\n",
    "        # Print the cost every 100 training examples \n",
    "        if print_cost and i % 100 == 0: \n",
    "            print (\"Cost after iteration %i: %f\" %(i, cost))\n",
    "    params = {\"w\": w, \n",
    "              \"b\": b}\n",
    "    grads = {\"dw\": dw, \n",
    "             \"db\": db}\n",
    "    return params, grads, costs\n"
   ]
  },
  {
   "cell_type": "code",
   "execution_count": 90,
   "metadata": {},
   "outputs": [],
   "source": [
    "w, b, X, Y = np.array([[1.],[2.]]), 2., np.array([[1.,2.,-1.],[3.,4.,-3.2]]), np.array([[1,0,1]])\n",
    "params, grads, costs = optimize(w, b, X, Y, num_iterations= 100, \n",
    "                                learning_rate = 0.009, print_cost = False)\n",
    "#print (\"w = \" + str(params[\"w\"])),print (\"b = \" + str(params[\"b\"]))\n",
    "#print (\"dw = \" + str(grads[\"dw\"])),print (\"db = \" + str(grads[\"db\"]))"
   ]
  },
  {
   "cell_type": "code",
   "execution_count": 91,
   "metadata": {
    "collapsed": true
   },
   "outputs": [],
   "source": [
    "def predict(w, b, X): \n",
    "    ''' \n",
    "    Predict whether the label is 0 or 1 using learned logistic regression parameters (w, b)\n",
    "    Arguments: \n",
    "    w -- weights, a numpy array of size (num_px * num_px * 3, 1) \n",
    "    b -- bias, a scalar \n",
    "    X -- data of size (num_px * num_px * 3, number of examples)\n",
    "    Returns: \n",
    "    Y_prediction -- a numpy array (vector) containing all predictions (0/1) for the examples in X \n",
    "    '''\n",
    "    m = X.shape[1]\n",
    "    Y_prediction = np.zeros((1,m))\n",
    "    #w的行数和X的函数相同，列数为1，如果W已经符合了，则不会有任何转变。\n",
    "    w = w.reshape(X.shape[0], 1)\n",
    "    # Compute vector \"A\" predicting the probabilities of a cat being present in the picture\n",
    "    ### START CODE HERE ### (1 line of code) \n",
    "    A = sigmoid(np.dot(w.T,X)+b)\n",
    "    ### END CODE HERE ###\n",
    "    for i in range(A.shape[1]):\n",
    "        # Convert probabilities A[0,i] to actual predictions p[0,i] \n",
    "        ### START CODE HERE ### (4 lines of code) \n",
    "        if A[0][i]<=0.5:A[0][i]=0 \n",
    "        else: A[0][i]=1 \n",
    "    Y_prediction=A \n",
    "    ### END CODE HERE ###\n",
    "    assert(Y_prediction.shape == (1, m))\n",
    "    return Y_prediction"
   ]
  },
  {
   "cell_type": "code",
   "execution_count": 92,
   "metadata": {
    "collapsed": true
   },
   "outputs": [],
   "source": [
    "# GRADED FUNCTION: model\n",
    "def model(X_train, Y_train, X_test, Y_test, num_iterations = 2000, learning_rate = 0.5, print_cost = False):\n",
    "    \"\"\" \n",
    "    Builds the logistic regression model by calling the function you've implemented previously, →\n",
    "    Arguments: \n",
    "    X_train -- training set represented by a numpy array of shape (num_px * num_px * 3, m_train), → \n",
    "    Y_train -- training labels represented by a numpy array (vector) of shape (1, m_train), → \n",
    "    X_test -- test set represented by a numpy array of shape (num_px * num_px * 3, m_test), → \n",
    "    Y_test -- test labels represented by a numpy array (vector) of shape (1, m_test), → \n",
    "    num_iterations -- hyperparameter representing the number of iterations to optimize the parameters, → \n",
    "    learning_rate -- hyperparameter representing the learning rate used in the update rule of optimize(), → \n",
    "    print_cost -- Set to true to print the cost every 100 iterations\n",
    "    Returns: \n",
    "    d -- dictionary containing information about the model. \n",
    "    \"\"\"\n",
    "    ### START CODE HERE ###\n",
    "    # initialize parameters with zeros (1 line of code) \n",
    "    w, b = initialize_with_zeros(X_train.shape[0])\n",
    "    # Gradient descent (1 line of code) \n",
    "    parameters, grads, costs = optimize(w, b, X_train, Y_train, \n",
    "                                        num_iterations, learning_rate, print_cost)\n",
    "    # Retrieve parameters w and b from dictionary \"parameters\"\n",
    "    w = parameters[\"w\"] \n",
    "    b = parameters[\"b\"]\n",
    "    # Predict test/train set examples (2 lines of code) \n",
    "    Y_prediction_test = predict(w, b, X_test) \n",
    "    Y_prediction_train = predict(w, b, X_train)\n",
    "    ### END CODE HERE ###\n",
    "    # Print train/test Errors \n",
    "    print(\"train accuracy: {} %\".format(100-np.mean(np.abs(Y_prediction_train - Y_train)) * 100))\n",
    "    print(\"test accuracy: {} %\".format(100-np.mean(np.abs(Y_prediction_test - Y_test)) * 100))\n",
    "    #等效于：\n",
    "    #print(\"test accuracy:{}%\".format((1-np.mean(np.abs(Y_prediction_test-Y_test)))*100))\n",
    "    d = {\"costs\": costs, \n",
    "         \"Y_prediction_test\": Y_prediction_test, \n",
    "         \"Y_prediction_train\" : Y_prediction_train, \n",
    "         \"w\" : w, \"b\" : b, \n",
    "         \"learning_rate\" : learning_rate, \n",
    "         \"num_iterations\": num_iterations}\n",
    "    return d "
   ]
  },
  {
   "cell_type": "code",
   "execution_count": 93,
   "metadata": {},
   "outputs": [
    {
     "name": "stdout",
     "output_type": "stream",
     "text": [
      "(1, 209)\n",
      "(12288, 209)\n",
      "Cost after iteration 0: 0.693147\n",
      "Cost after iteration 100: 0.584508\n",
      "Cost after iteration 200: 0.466949\n",
      "Cost after iteration 300: 0.376007\n",
      "Cost after iteration 400: 0.331463\n",
      "Cost after iteration 500: 0.303273\n",
      "Cost after iteration 600: 0.279880\n",
      "Cost after iteration 700: 0.260042\n",
      "Cost after iteration 800: 0.242941\n",
      "Cost after iteration 900: 0.228004\n",
      "Cost after iteration 1000: 0.214820\n",
      "Cost after iteration 1100: 0.203078\n",
      "Cost after iteration 1200: 0.192544\n",
      "Cost after iteration 1300: 0.183033\n",
      "Cost after iteration 1400: 0.174399\n",
      "Cost after iteration 1500: 0.166521\n",
      "Cost after iteration 1600: 0.159305\n",
      "Cost after iteration 1700: 0.152667\n",
      "Cost after iteration 1800: 0.146542\n",
      "Cost after iteration 1900: 0.140872\n",
      "train accuracy: 99.04306220095694 %\n",
      "test accuracy: 70.0 %\n"
     ]
    }
   ],
   "source": [
    "print(train_set_y.shape)\n",
    "print(train_set_x.shape)\n",
    "#X应该是(12288,209)\n",
    "d = model(train_set_x, train_set_y, test_set_x, test_set_y, \n",
    "          num_iterations = 2000, learning_rate = 0.005, print_cost = True)"
   ]
  },
  {
   "cell_type": "code",
   "execution_count": 96,
   "metadata": {},
   "outputs": [
    {
     "data": {
      "image/png": "[encoded data removed]",
      "text/plain": [
       "<matplotlib.figure.Figure at 0x2007a31ec18>"
      ]
     },
     "metadata": {},
     "output_type": "display_data"
    }
   ],
   "source": [
    "# Plot learning curve (with costs) \n",
    "costs = np.squeeze(d['costs'])\n",
    "plt.plot(costs)\n",
    "plt.ylabel('cost') \n",
    "plt.xlabel('iterations (per hundreds)') \n",
    "plt.title(\"Learning rate =\" + str(d[\"learning_rate\"])) \n",
    "plt.show()"
   ]
  },
  {
   "cell_type": "code",
   "execution_count": null,
   "metadata": {
    "collapsed": true
   },
   "outputs": [],
   "source": []
  },
  {
   "cell_type": "code",
   "execution_count": null,
   "metadata": {
    "collapsed": true
   },
   "outputs": [],
   "source": []
  }
 ],
 "metadata": {
  "kernelspec": {
   "display_name": "Python 3",
   "language": "python",
   "name": "python3"
  },
  "language_info": {
   "codemirror_mode": {
    "name": "ipython",
    "version": 3
   },
   "file_extension": ".py",
   "mimetype": "text/x-python",
   "name": "python",
   "nbconvert_exporter": "python",
   "pygments_lexer": "ipython3",
   "version": "3.6.3"
  }
 },
 "nbformat": 4,
 "nbformat_minor": 2
}
