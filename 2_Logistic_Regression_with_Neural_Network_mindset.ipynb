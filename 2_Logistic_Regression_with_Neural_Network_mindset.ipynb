{
 "cells": [
  {
   "cell_type": "markdown",
   "metadata": {},
   "source": [
    "# Logistic Regression with a Neural Network mindset"
   ]
  },
  {
   "cell_type": "markdown",
   "metadata": {},
   "source": [
    "* Build the general architecture of a learning algorithm, including: \n",
    "    * Initializing parameters \n",
    "    * Calculating the cost function and its gradient \n",
    "    * Using an optimization algorithm (gradient descent)\n",
    "* Gather all three functions above into a main model function, in the right order.\n"
   ]
  },
  {
   "cell_type": "code",
   "execution_count": 222,
   "metadata": {
    "collapsed": true
   },
   "outputs": [],
   "source": [
    "import numpy as np \n",
    "import matplotlib.pyplot as plt \n",
    "import h5py \n",
    "import scipy \n",
    "from PIL import Image \n",
    "from scipy import ndimage \n",
    "from lr_utils import load_dataset\n",
    "\n",
    "%matplotlib inline"
   ]
  },
  {
   "cell_type": "code",
   "execution_count": 223,
   "metadata": {
    "collapsed": true
   },
   "outputs": [],
   "source": [
    "# Loading the data (cat/non-cat) \n",
    "train_set_x_orig, train_set_y, test_set_x_orig, test_set_y, classes = load_dataset()"
   ]
  },
  {
   "cell_type": "code",
   "execution_count": 224,
   "metadata": {},
   "outputs": [
    {
     "name": "stdout",
     "output_type": "stream",
     "text": [
      "y = [1], it's a 'cat' picture.\n"
     ]
    },
    {
     "data": {
      "image/png": "[encoded data removed]",
      "text/plain": [
       "<matplotlib.figure.Figure at 0x1eff7acb940>"
      ]
     },
     "metadata": {},
     "output_type": "display_data"
    }
   ],
   "source": [
    "# Example of a picture \n",
    "index = 25\n",
    "plt.imshow(train_set_x_orig[index])\n",
    "print (\"y = \" + str(train_set_y[:, index]) + \", it's a '\" + \n",
    "       classes[np.squeeze(train_set_y[:, index])].decode(\"utf-8\") + \n",
    "       \"' picture.\") "
   ]
  },
  {
   "cell_type": "code",
   "execution_count": 225,
   "metadata": {},
   "outputs": [
    {
     "name": "stdout",
     "output_type": "stream",
     "text": [
      "Number of training examples: m_train = 209\n",
      "Number of testing examples: m_test = 50\n",
      "Height/Width of each image: num_px = 64\n",
      "Each image is of size: (64, 64, 3)\n",
      "train_set_x shape: (209, 64, 64, 3)\n",
      "train_set_y shape: (1, 209)\n",
      "test_set_x shape: (50, 64, 64, 3)\n",
      "test_set_y shape: (1, 50)\n"
     ]
    }
   ],
   "source": [
    "### START CODE HERE ### (3 lines of code)\n",
    "# m_train (number of training examples) \n",
    "# m_test (number of test examples) \n",
    "# num_px (= height = width of a training image)\n",
    "m_train = train_set_x_orig.shape[0] \n",
    "m_test = test_set_x_orig.shape[0]\n",
    "num_px = train_set_x_orig.shape[1]\n",
    "### END CODE HERE ###\n",
    "\n",
    "print (\"Number of training examples: m_train = \" + str(m_train)) \n",
    "print (\"Number of testing examples: m_test = \" + str(m_test)) \n",
    "print (\"Height/Width of each image: num_px = \" + str(num_px)) \n",
    "print (\"Each image is of size: (\" + str(num_px) + \", \" + str(num_px) + \", 3)\")\n",
    "print (\"train_set_x shape: \" + str(train_set_x_orig.shape)) \n",
    "print (\"train_set_y shape: \" + str(train_set_y.shape)) \n",
    "print (\"test_set_x shape: \" + str(test_set_x_orig.shape)) \n",
    "print (\"test_set_y shape: \" + str(test_set_y.shape))"
   ]
  },
  {
   "cell_type": "markdown",
   "metadata": {},
   "source": [
    "### Reshape the training and test examples\n",
    "* images of size (num_px, num_px, 3) are flattened into single vectors of shape (num_px·num_px·3, 1)\n",
    "* A trick when you want to flatten a matrix X of shape (a,b,c,d) to a matrix X_flatten of shape (b·c·d, a) is to use:\n",
    "    * X_flatten = X.reshape(-1,X.shape[0])"
   ]
  },
  {
   "cell_type": "code",
   "execution_count": 226,
   "metadata": {},
   "outputs": [
    {
     "name": "stdout",
     "output_type": "stream",
     "text": [
      "train_set_x_flatten shape: (12288, 209)\n",
      "train_set_y shape: (1, 209)\n",
      "test_set_x_flatten shape: (12288, 50)\n",
      "test_set_y shape: (1, 50)\n",
      "sanity check after reshaping: [17 31 56 22 33]\n"
     ]
    }
   ],
   "source": [
    "# Reshape the training and test examples \n",
    "#使维度满足：\n",
    "    #X:(num_px * num_px * 3,number of examples)\n",
    "    #Y:(1, number of examples)\n",
    "    \n",
    "#数组新的shape属性应该要与原来的配套，如果等于-1的话，那么Numpy会根据剩下的维度计算出数组的另外一个shape属性值。\n",
    "#因为x_orig维度(m,px,px,3),所以要保留第一个m，使其每个m的剩下三维px,px,3组成一个列向量。\n",
    "#然后再转置，是X符合(nx,m)规格。\n",
    "#如果reshape(-1,test_set_x_orig.shape[0])，那么就会是m,px,px,3组成一个大list，再每m个分割为一个向量。\n",
    "#这样样本之间就打乱了值。如果x_orig维度是(px,px,3，m)那么就应该用reshape(-1,test_set_x_orig.shape[0])，\n",
    "#此时X已满足(nx,m)不需要转置。\n",
    "\n",
    "train_set_x_flatten = train_set_x_orig.reshape(train_set_x_orig.shape[0],-1).T\n",
    "test_set_x_flatten = test_set_x_orig.reshape(test_set_x_orig.shape[0],-1).T\n",
    "\n",
    "print (\"train_set_x_flatten shape: \" + str(train_set_x_flatten.shape)) \n",
    "print (\"train_set_y shape: \" + str(train_set_y.shape)) \n",
    "print (\"test_set_x_flatten shape: \" + str(test_set_x_flatten.shape)) \n",
    "print (\"test_set_y shape: \" + str(test_set_y.shape))\n",
    "print (\"sanity check after reshaping: \" + str(train_set_x_flatten[0:5,0]))"
   ]
  },
  {
   "cell_type": "code",
   "execution_count": 227,
   "metadata": {
    "collapsed": true
   },
   "outputs": [],
   "source": [
    "#\"Standardize\" the data\n",
    "#像素值分范围0-255，所以此处的“标准化”是都除以255\n",
    "train_set_x = train_set_x_flatten/255.\n",
    "test_set_x = test_set_x_flatten/255."
   ]
  },
  {
   "cell_type": "markdown",
   "metadata": {},
   "source": [
    "<font color='blue'>\n",
    "**What you need to remember:**\n",
    "\n",
    "Common steps for pre-processing a new dataset are:\n",
    "- Figure out the dimensions and shapes of the problem (m_train, m_test, num_px, ...)\n",
    "- Reshape the datasets such that each example is now a vector of size (num_px \\* num_px \\* 3, 1)\n",
    "- \"Standardize\" the data"
   ]
  },
  {
   "cell_type": "markdown",
   "metadata": {},
   "source": [
    "### General Architecture of the learning algorithm\n",
    "\n",
    "**Mathematical expression of the algorithm**:\n",
    "\n",
    "For one example $x^{(i)}$:\n",
    "$$z^{(i)} = w^T x^{(i)} + b \\tag{1}$$\n",
    "$$\\hat{y}^{(i)} = a^{(i)} = sigmoid(z^{(i)})\\tag{2}$$ \n",
    "$$ \\mathcal{L}(a^{(i)}, y^{(i)}) =  - y^{(i)}  \\log(a^{(i)}) - (1-y^{(i)} )  \\log(1-a^{(i)})\\tag{3}$$\n",
    "\n",
    "The cost is then computed by summing over all training examples:\n",
    "$$ J = \\frac{1}{m} \\sum_{i=1}^m \\mathcal{L}(a^{(i)}, y^{(i)})\\tag{6}$$\n",
    "\n",
    "**Key steps**:\n",
    "In this exercise, you will carry out the following steps: \n",
    "    - Initialize the parameters of the model\n",
    "    - Learn the parameters for the model by minimizing the cost  \n",
    "    - Use the learned parameters to make predictions (on the test set)\n",
    "    - Analyse the results and conclude"
   ]
  },
  {
   "cell_type": "code",
   "execution_count": 228,
   "metadata": {
    "collapsed": true
   },
   "outputs": [],
   "source": [
    "def initialize_with_zeros(dim): \n",
    "    \"\"\" \n",
    "    This function creates a vector of zeros of shape (dim, 1) for w and initializes b to 0.\n",
    "    Argument: \n",
    "    dim -- size of the w vector we want (or number of parameters in this case).\n",
    "    Returns: \n",
    "    w -- initialized vector of shape (dim, 1) \n",
    "    b -- initialized scalar (corresponds to the bias) \n",
    "    解释W(dim,1)的原因:\n",
    "    z=w1*x1+w2*x2+w3*x3+......wm*xm+b\n",
    "    yhat=sigmod(z)\n",
    "    b是标量，一个数值。\n",
    "    \"\"\"\n",
    "    w = np.zeros((dim,1)) \n",
    "    b = 0\n",
    "    assert(w.shape == (dim, 1)) \n",
    "    assert(isinstance(b, float) or isinstance(b, int))\n",
    "    return w, b"
   ]
  },
  {
   "cell_type": "code",
   "execution_count": 229,
   "metadata": {
    "collapsed": true
   },
   "outputs": [],
   "source": [
    "# GRADED FUNCTION: sigmoid \n",
    "def sigmoid(z): \n",
    "    \"\"\" \n",
    "    Compute the sigmoid of z\n",
    "    Arguments: \n",
    "    z -- A scalar or numpy array of any size\n",
    "    Return\n",
    "    s -- sigmoid(z) \n",
    "    \"\"\"\n",
    "    s = 1/(1+np.exp(-z))\n",
    "    return s"
   ]
  },
  {
   "cell_type": "markdown",
   "metadata": {},
   "source": [
    "### Forward and Backward propagation \n",
    "\n",
    "Forward Propagation:\n",
    "- You get X\n",
    "- You compute $A = \\sigma(w^T X + b) = (a^{(0)}, a^{(1)}, ..., a^{(m-1)}, a^{(m)})$\n",
    "- You calculate the cost function: $J = -\\frac{1}{m}\\sum_{i=1}^{m}y^{(i)}\\log(a^{(i)})+(1-y^{(i)})\\log(1-a^{(i)})$\n",
    "\n",
    "Here are the two formulas you will be using: \n",
    "\n",
    "$$ \\frac{\\partial J}{\\partial w} = \\frac{1}{m}X(A-Y)^T\\tag{7}$$\n",
    "$$ \\frac{\\partial J}{\\partial b} = \\frac{1}{m} \\sum_{i=1}^m (a^{(i)}-y^{(i)})\\tag{8}$$"
   ]
  },
  {
   "cell_type": "code",
   "execution_count": 230,
   "metadata": {
    "collapsed": true
   },
   "outputs": [],
   "source": [
    "# GRADED FUNCTION: propagate \n",
    "def propagate(w, b, X, Y): \n",
    "    \"\"\" \n",
    "    Implement the cost function and its gradient for the propagation explained above.\n",
    "    Arguments: \n",
    "    w -- weights, a numpy array of size (num_px * num_px * 3, 1) \n",
    "    b -- bias, a scalar X -- data of size (num_px * num_px * 3, number of examples) \n",
    "    Y -- true \"label\" vector (containing 0 if non-cat, 1 if cat) of size (1, number of examples).\n",
    "    Return: \n",
    "    cost -- negative log-likelihood cost for logistic regression \n",
    "    dw -- gradient of the loss with respect to w, thus same shape as w \n",
    "    db -- gradient of the loss with respect to b, thus same shape as b\n",
    "    Tips: - Write your code step by step for the propagation. np.log(), np.dot().\n",
    "    \"\"\"\n",
    "    m = X.shape[1]\n",
    "    \n",
    "    # FORWARD PROPAGATION (FROM X TO COST) \n",
    "    A = sigmoid(np.dot(w.T,X)+b)\n",
    "    #A的维度:(1,m)=Y的维度,w:(nx,1),X:(nx,m)\n",
    "    # compute activation \n",
    "    \n",
    "    #确保np.dot的第一个矩阵是(1,m),第二个是(m,1)\n",
    "    cost = -(np.dot(Y,np.log(A.T))+np.dot(np.log(1-A),(1-Y).T))/m\n",
    "    # compute cost, \n",
    "    \n",
    "    # BACKWARD PROPAGATION (TO FIND GRAD)\n",
    "    #单个样本：\n",
    "    #da=-y/a+(1-y)/(1-a)\n",
    "    #dz=a-y\n",
    "    #dw=dz*x\n",
    "    #db=dz\n",
    "    #m个样本：\n",
    "    #dZ=A-Y\n",
    "    #dW=(1/m)(X*dZ.T)\n",
    "    #db=(1/m)*(np.sum(dZ,axis=1,keepdims=True))\n",
    "    dw = np.dot(X,(A-Y).T)/m \n",
    "    db = np.sum(A-Y)/m\n",
    "    assert(dw.shape == w.shape) \n",
    "    assert(db.dtype == float) \n",
    "    cost = np.squeeze(cost) \n",
    "    assert(cost.shape == ())\n",
    "    grads = {\"dw\": dw, \"db\": db}\n",
    "    return grads, cost"
   ]
  },
  {
   "cell_type": "code",
   "execution_count": 231,
   "metadata": {
    "collapsed": true
   },
   "outputs": [],
   "source": [
    "# GRADED FUNCTION: optimize\n",
    "def optimize(w, b, X, Y, num_iterations, learning_rate, print_cost = False): \n",
    "    \"\"\" \n",
    "    This function optimizes w and b by running a gradient descent algorithm, \n",
    "    Arguments: \n",
    "    w -- weights, a numpy array of size (num_px * num_px * 3, 1) \n",
    "    b -- bias, a scalar \n",
    "    X -- data of shape (num_px * num_px * 3, number of examples) \n",
    "    Y -- true \"label\" vector (containing 0 if non-cat, 1 if cat), of shape (1, number of examples).\n",
    "    num_iterations -- number of iterations of the optimization loop \n",
    "    learning_rate -- learning rate of the gradient descent update rule \n",
    "    print_cost -- True to print the loss every 100 steps\n",
    "    Returns: \n",
    "    params -- dictionary containing the weights w and bias b \n",
    "    grads -- dictionary containing the gradients of the weights and bias\n",
    "             with respect to the cost function\n",
    "    costs -- list of all the costs computed during the optimization, \n",
    "             this will be used to plot the learning curve.\n",
    "    Tips: You basically need to write down two steps and iterate through them:\n",
    "        1) Calculate the cost and the gradient for the current parameters. Use propagate().\n",
    "        2) Update the parameters using gradient descent rule for w and b.\n",
    "    \"\"\"\n",
    "    costs = []\n",
    "    #迭代num_iterations次，w=w-a*dw，b=b-a*db，cost = -(np.dot(Y,np.log(A.T))+np.dot(np.log(1-A),(1-Y).T))/m，与Y和A有关，\n",
    "    #Y是固定量，但是每次迭代都改变A，即，A是学习变量。A = sigmoid(np.dot(w.T,X)+b)，每次迭代，都会改变w和b。\n",
    "    for i in range(num_iterations):\n",
    "        # Cost and gradient calculation (1-4 lines of code) \n",
    "        ### START CODE HERE ### \n",
    "        grads, cost = propagate(w, b, X, Y)\n",
    "        ### END CODE HERE ###\n",
    "        # Retrieve derivatives from grads \n",
    "        dw = grads[\"dw\"] \n",
    "        db = grads[\"db\"]\n",
    "        # update rule (2 lines of code) \n",
    "        ### START CODE HERE ###\n",
    "        #w=w-a*dw\n",
    "        #b=b-a*db\n",
    "        w = w-learning_rate*dw \n",
    "        b = b-learning_rate*db \n",
    "        ### END CODE HERE ###\n",
    "        # Record the costs \n",
    "        if i % 100 == 0: \n",
    "            costs.append(cost)\n",
    "        # Print the cost every 100 training examples \n",
    "        if print_cost and i % 100 == 0: \n",
    "            print (\"Cost after iteration %i: %f\" %(i, cost))\n",
    "    params = {\"w\": w, \n",
    "              \"b\": b}\n",
    "    grads = {\"dw\": dw, \n",
    "             \"db\": db}\n",
    "    return params, grads, costs\n"
   ]
  },
  {
   "cell_type": "code",
   "execution_count": 232,
   "metadata": {},
   "outputs": [
    {
     "name": "stdout",
     "output_type": "stream",
     "text": [
      "w = [[ 0.19033591]\n",
      " [ 0.12259159]]\n",
      "b = 1.92535983008\n",
      "dw = [[ 0.67752042]\n",
      " [ 1.41625495]]\n",
      "db = 0.219194504541\n",
      "costs = [array(5.801545319394553)]\n"
     ]
    }
   ],
   "source": [
    "#w, b, X, Y = np.array([[1.],[2.]]), 2., np.array([[1.,2.,-1.],[3.,4.,-3.2]]), np.array([[1,0,1]])\n",
    "w=np.array([[1.],[2.]])\n",
    "b=2.\n",
    "X=np.array([[1.,2.,-1.],[3.,4.,-3.2]])\n",
    "Y=np.array([[1,0,1]])\n",
    "params, grads, costs = optimize(w, b, X, Y, num_iterations= 100, \n",
    "                                learning_rate = 0.009, print_cost = False)\n",
    "print (\"w = \" + str(params[\"w\"]))\n",
    "print (\"b = \" + str(params[\"b\"]))\n",
    "print (\"dw = \" + str(grads[\"dw\"]))\n",
    "print (\"db = \" + str(grads[\"db\"]))\n",
    "print(\"costs = \"+str(costs))"
   ]
  },
  {
   "cell_type": "code",
   "execution_count": 237,
   "metadata": {
    "collapsed": true
   },
   "outputs": [],
   "source": [
    "#propagate没有返回A，如果返回A，那么最后一个A就是预测的yhat，并非(0，1)形式，而是介于0-1之间。\n",
    "# GRADED FUNCTION: predict\n",
    "def predict(w, b, X):\n",
    "    '''\n",
    "    Predict whether the label is 0 or 1 using learned logistic regression parameters (w, b) \n",
    "    Arguments:\n",
    "    w -- weights, a numpy array of size (num_px * num_px * 3, 1)\n",
    "    b -- bias, a scalar\n",
    "    X -- data of size (num_px * num_px * 3, number of examples)\n",
    "    Returns:\n",
    "    Y_prediction -- a numpy array (vector) containing all predictions (0/1) for the examples in X\n",
    "    ''' \n",
    "    m = X.shape[1]\n",
    "    Y_prediction = np.zeros((1,m))\n",
    "    #w的行数和X的函数相同，列数为1，如果W已经符合了，则不会有任何转变。\n",
    "    w = w.reshape(X.shape[0], 1)\n",
    "    \n",
    "    # Compute vector \"A\" predicting the probabilities of a cat being present in the picture\n",
    "    ### START CODE HERE ### (≈ 1 line of code)\n",
    "    A = sigmoid(np.dot(w.T, X) + b)\n",
    "    ### END CODE HERE ###\n",
    "    \"\"\"\n",
    "    for i in range(A.shape[1]):\n",
    "        \n",
    "        # Convert probabilities A[0,i] to actual predictions p[0,i]\n",
    "        ### START CODE HERE ### (≈ 4 lines of code)\n",
    "        if A[0, i] <= 0.5:\n",
    "            Y_prediction[0, i] = 0\n",
    "        else:\n",
    "            Y_prediction[0, i] = 1\n",
    "        ### END CODE HERE ###\n",
    "    \"\"\"\n",
    "    Y_prediction[0]=np.round(A[0])\n",
    "    assert(Y_prediction.shape == (1, m))\n",
    "    \n",
    "    return Y_prediction"
   ]
  },
  {
   "cell_type": "markdown",
   "metadata": {},
   "source": [
    "### Merge all functions into a model "
   ]
  },
  {
   "cell_type": "code",
   "execution_count": 238,
   "metadata": {
    "collapsed": true
   },
   "outputs": [],
   "source": [
    "# GRADED FUNCTION: model\n",
    "def model(X_train, Y_train, X_test, Y_test, num_iterations = 2000, learning_rate = 0.5, print_cost = False):\n",
    "    \"\"\" \n",
    "    Builds the logistic regression model by calling the function you've implemented previously\n",
    "    Arguments: \n",
    "    X_train -- training set represented by a numpy array of shape (num_px * num_px * 3, m_train)\n",
    "    Y_train -- training labels represented by a numpy array (vector) of shape (1, m_train)\n",
    "    X_test -- test set represented by a numpy array of shape (num_px * num_px * 3, m_test)\n",
    "    Y_test -- test labels represented by a numpy array (vector) of shape (1, m_test)\n",
    "    num_iterations -- hyperparameter representing the number of iterations to optimize the parameters\n",
    "    learning_rate -- hyperparameter representing the learning rate \n",
    "                     used in the update rule of optimize()\n",
    "    print_cost -- Set to true to print the cost every 100 iterations\n",
    "    Returns: \n",
    "    d -- dictionary containing information about the model. \n",
    "    \"\"\"\n",
    "    ### START CODE HERE ###\n",
    "    # initialize parameters with zeros (1 line of code) \n",
    "    w, b = initialize_with_zeros(X_train.shape[0])\n",
    "    # Gradient descent (1 line of code) \n",
    "    parameters, grads, costs = optimize(w, b, X_train, Y_train, num_iterations, learning_rate, print_cost)\n",
    "    # Retrieve parameters w and b from dictionary \"parameters\"\n",
    "    w = parameters[\"w\"] \n",
    "    b = parameters[\"b\"]\n",
    "    # Predict test/train set examples (2 lines of code) \n",
    "    Y_prediction_test = predict(w, b, X_test) \n",
    "    Y_prediction_train = predict(w, b, X_train)\n",
    "    ### END CODE HERE ###\n",
    "    # Print train/test Errors \n",
    "    print(\"train accuracy: {} %\".format(100-np.mean(np.abs(Y_prediction_train - Y_train)) * 100))\n",
    "    print(\"test accuracy: {} %\".format(100-np.mean(np.abs(Y_prediction_test - Y_test)) * 100))\n",
    "    #等效于：\n",
    "    #print(\"test accuracy:{}%\".format((1-np.mean(np.abs(Y_prediction_test-Y_test)))*100))\n",
    "    d = {\"costs\": costs, \n",
    "         \"Y_prediction_test\": Y_prediction_test, \n",
    "         \"Y_prediction_train\" : Y_prediction_train, \n",
    "         \"w\" : w, \"b\" : b, \n",
    "         \"learning_rate\" : learning_rate, \n",
    "         \"num_iterations\": num_iterations}\n",
    "    return d "
   ]
  },
  {
   "cell_type": "code",
   "execution_count": 239,
   "metadata": {},
   "outputs": [
    {
     "name": "stdout",
     "output_type": "stream",
     "text": [
      "(1, 209)\n",
      "(12288, 209)\n",
      "Cost after iteration 0: 0.693147\n",
      "Cost after iteration 100: 0.584508\n",
      "Cost after iteration 200: 0.466949\n",
      "Cost after iteration 300: 0.376007\n",
      "Cost after iteration 400: 0.331463\n",
      "Cost after iteration 500: 0.303273\n",
      "Cost after iteration 600: 0.279880\n",
      "Cost after iteration 700: 0.260042\n",
      "Cost after iteration 800: 0.242941\n",
      "Cost after iteration 900: 0.228004\n",
      "Cost after iteration 1000: 0.214820\n",
      "Cost after iteration 1100: 0.203078\n",
      "Cost after iteration 1200: 0.192544\n",
      "Cost after iteration 1300: 0.183033\n",
      "Cost after iteration 1400: 0.174399\n",
      "Cost after iteration 1500: 0.166521\n",
      "Cost after iteration 1600: 0.159305\n",
      "Cost after iteration 1700: 0.152667\n",
      "Cost after iteration 1800: 0.146542\n",
      "Cost after iteration 1900: 0.140872\n",
      "train accuracy: 99.04306220095694 %\n",
      "test accuracy: 70.0 %\n"
     ]
    }
   ],
   "source": [
    "print(train_set_y.shape)\n",
    "print(train_set_x.shape)\n",
    "d = model(train_set_x, train_set_y, test_set_x, test_set_y, num_iterations = 2000, learning_rate = 0.005, print_cost = True)"
   ]
  },
  {
   "cell_type": "markdown",
   "metadata": {},
   "source": [
    "* np.squeeze用法：\n",
    "* 从数组的形状中删除单维条目，即把shape中为1的维度去掉"
   ]
  },
  {
   "cell_type": "code",
   "execution_count": 236,
   "metadata": {},
   "outputs": [
    {
     "name": "stdout",
     "output_type": "stream",
     "text": [
      "[array(0.6931471805599453), array(0.5845083636993086), array(0.4669490409465547), array(0.37600686694802077), array(0.3314632893282513), array(0.30327306747438293), array(0.27987958658260487), array(0.2600421369258757), array(0.2429406846779662), array(0.22800422256726066), array(0.2148195137844964), array(0.20307819060644988), array(0.19254427716706857), array(0.18303333796883509), array(0.17439859438448874), array(0.16652139705400335), array(0.15930451829756614), array(0.152667324712965), array(0.14654223503982342), array(0.1408720757031016)]\n"
     ]
    },
    {
     "data": {
      "image/png": "[encoded data removed]",
      "text/plain": [
       "<matplotlib.figure.Figure at 0x1eff7f04d30>"
      ]
     },
     "metadata": {},
     "output_type": "display_data"
    }
   ],
   "source": [
    "# Plot learning curve (with costs) \n",
    "#这个costs是个list，其实可以不用np.squeeze\n",
    "print(d['costs'])\n",
    "costs = np.squeeze(d['costs'])\n",
    "plt.plot(costs)\n",
    "plt.ylabel('cost') \n",
    "plt.xlabel('iterations (per hundreds)') \n",
    "plt.title(\"Learning rate =\" + str(d[\"learning_rate\"])) \n",
    "plt.show()\n",
    "#y轴是以迭代100次为单位"
   ]
  },
  {
   "cell_type": "markdown",
   "metadata": {
    "collapsed": true
   },
   "source": [
    "<font color='blue'>\n",
    "**What to remember:**\n",
    "You've implemented several functions that:\n",
    "- Initialize (w,b)\n",
    "- Optimize the loss iteratively to learn parameters (w,b):\n",
    "    - computing the cost and its gradient \n",
    "    - updating the parameters using gradient descent\n",
    "- Use the learned (w,b) to predict the labels for a given set of examples"
   ]
  },
  {
   "cell_type": "markdown",
   "metadata": {},
   "source": [
    "### Choice of learning rate "
   ]
  },
  {
   "cell_type": "code",
   "execution_count": 213,
   "metadata": {},
   "outputs": [
    {
     "name": "stdout",
     "output_type": "stream",
     "text": [
      "learning rate is: 0.01\n",
      "train accuracy: 99.52153110047847 %\n",
      "test accuracy: 68.0 %\n",
      "\n",
      "-------------------------------------------------------\n",
      "\n",
      "learning rate is: 0.001\n",
      "train accuracy: 88.99521531100478 %\n",
      "test accuracy: 64.0 %\n",
      "\n",
      "-------------------------------------------------------\n",
      "\n",
      "learning rate is: 0.0001\n",
      "train accuracy: 68.42105263157895 %\n",
      "test accuracy: 36.0 %\n",
      "\n",
      "-------------------------------------------------------\n",
      "\n"
     ]
    }
   ],
   "source": [
    "learning_rates = [0.01, 0.001, 0.0001]\n",
    "models = {}\n",
    "for i in learning_rates:\n",
    "    print (\"learning rate is: \" + str(i))\n",
    "    models[str(i)] = model(train_set_x, train_set_y, test_set_x, test_set_y, num_iterations = 1500, learning_rate = i, print_cost = False)\n",
    "    print ('\\n' + \"-------------------------------------------------------\" + '\\n')"
   ]
  },
  {
   "cell_type": "code",
   "execution_count": 221,
   "metadata": {},
   "outputs": [
    {
     "data": {
      "image/png": "[encoded data removed]",
      "text/plain": [
       "<matplotlib.figure.Figure at 0x1eff7a89c50>"
      ]
     },
     "metadata": {},
     "output_type": "display_data"
    }
   ],
   "source": [
    "for i in learning_rates:\n",
    "    plt.plot(np.squeeze(models[str(i)][\"costs\"]), label= str(models[str(i)][\"learning_rate\"]))\n",
    "\n",
    "plt.ylabel('cost')\n",
    "plt.xlabel('iterations')\n",
    "\n",
    "legend = plt.legend(loc='upper center', shadow=True)\n",
    "frame = legend.get_frame()\n",
    "frame.set_facecolor('0.90')\n",
    "plt.show()"
   ]
  },
  {
   "cell_type": "code",
   "execution_count": null,
   "metadata": {
    "collapsed": true
   },
   "outputs": [],
   "source": []
  }
 ],
 "metadata": {
  "kernelspec": {
   "display_name": "Python 3",
   "language": "python",
   "name": "python3"
  },
  "language_info": {
   "codemirror_mode": {
    "name": "ipython",
    "version": 3
   },
   "file_extension": ".py",
   "mimetype": "text/x-python",
   "name": "python",
   "nbconvert_exporter": "python",
   "pygments_lexer": "ipython3",
   "version": "3.6.3"
  }
 },
 "nbformat": 4,
 "nbformat_minor": 2
}
