{
 "cells": [
  {
   "cell_type": "markdown",
   "metadata": {},
   "source": [
    "# What you need to remember: \n",
    "* np.exp(x) works for any np.array x and applies the exponential function to every coordinate \n",
    "* the sigmoid function and its gradient \n",
    "* image2vector is commonly used in deep learning \n",
    "* np.reshape is widely used. In the future, you’ll see that keeping your matrix/vector dimensions straight will go toward eliminating a lot of bugs. \n",
    "* numpy has efficient built-in functions \n",
    "* broadcasting is extremely useful\n"
   ]
  },
  {
   "cell_type": "code",
   "execution_count": 7,
   "metadata": {
    "collapsed": true
   },
   "outputs": [],
   "source": [
    "#!/usr/bin/python\n",
    "# GRADED FUNCTION: basic_sigmoid import math\n",
    "def basic_sigmoid(x): \n",
    "    \"\"\" \n",
    "    Compute sigmoid of x.\n",
    "    Arguments: x -- A scalar\n",
    "    Return:\n",
    "    s -- sigmoid(x) \n",
    "    \"\"\"\n",
    "    ### START CODE HERE ### (￿ 1 line of code) \n",
    "    s = 1/(1+math.exp(-x)) \n",
    "    ### END CODE HERE ###\n",
    "    return s\n"
   ]
  },
  {
   "cell_type": "code",
   "execution_count": 8,
   "metadata": {},
   "outputs": [
    {
     "data": {
      "text/plain": [
       "0.8807970779778823"
      ]
     },
     "execution_count": 8,
     "metadata": {},
     "output_type": "execute_result"
    }
   ],
   "source": [
    "basic_sigmoid(2)"
   ]
  },
  {
   "cell_type": "code",
   "execution_count": 1,
   "metadata": {},
   "outputs": [
    {
     "name": "stdout",
     "output_type": "stream",
     "text": [
      "[  2.71828183   7.3890561   20.08553692]\n"
     ]
    }
   ],
   "source": [
    "import numpy as np\n",
    "# example of np.exp \n",
    "x = np.array([1, 2, 3]) \n",
    "print(np.exp(x)) "
   ]
  },
  {
   "cell_type": "code",
   "execution_count": 2,
   "metadata": {},
   "outputs": [
    {
     "name": "stdout",
     "output_type": "stream",
     "text": [
      "[4 5 6]\n"
     ]
    }
   ],
   "source": [
    "# example of vector operation \n",
    "x = np.array([1, 2, 3]) \n",
    "print (x + 3)"
   ]
  },
  {
   "cell_type": "code",
   "execution_count": 2,
   "metadata": {
    "collapsed": true
   },
   "outputs": [],
   "source": [
    "# GRADED FUNCTION: sigmoid \n",
    "import numpy as np \n",
    "# this means you can access numpy functions by writing np.function() instead of numpy.function(), \n",
    "def sigmoid(x):\n",
    "    \"\"\" \n",
    "    Compute the sigmoid of x\n",
    "    Arguments: \n",
    "    x -- A scalar or numpy array of any size\n",
    "    Return: \n",
    "    s -- sigmoid(x) \n",
    "    \"\"\"\n",
    "    ### START CODE HERE ### (1 line of code) \n",
    "    s = 1/(1+np.exp(-x)) \n",
    "    ### END CODE HERE ###\n",
    "    return s"
   ]
  },
  {
   "cell_type": "code",
   "execution_count": 3,
   "metadata": {},
   "outputs": [
    {
     "data": {
      "text/plain": [
       "array([ 0.73105858,  0.88079708,  0.95257413])"
      ]
     },
     "execution_count": 3,
     "metadata": {},
     "output_type": "execute_result"
    }
   ],
   "source": [
    "x = np.array([1,2,3]) \n",
    "sigmoid(x)"
   ]
  },
  {
   "cell_type": "code",
   "execution_count": 4,
   "metadata": {
    "collapsed": true
   },
   "outputs": [],
   "source": [
    "# GRADED FUNCTION: sigmoid_derivative \n",
    "def sigmoid_derivative(x): \n",
    "    \"\"\" \n",
    "    Compute the gradient (also called the slope or derivative) \n",
    "    of the sigmoid function with respect to its input x.\n",
    "    You can store the output of the sigmoid function into \n",
    "    variables and then use it to calculate the gradient.\n",
    "    Arguments: \n",
    "    x -- A scalar or numpy array\n",
    "    Return: \n",
    "    ds -- Your computed gradient. \n",
    "    \"\"\"\n",
    "    ### START CODE HERE ### (￿ 2 lines of code) \n",
    "    s = 1/(1+np.exp(-x)) \n",
    "    ds = s*(1-s)\n",
    "    ### END CODE HERE ###\n",
    "    return ds"
   ]
  },
  {
   "cell_type": "code",
   "execution_count": 5,
   "metadata": {
    "collapsed": true
   },
   "outputs": [],
   "source": [
    "# GRADED FUNCTION: image2vector \n",
    "def image2vector(image): \n",
    "    \"\"\" \n",
    "    Argument: \n",
    "    image -- a numpy array of shape (length, height, depth)\n",
    "    Returns: \n",
    "    v -- a vector of shape (length*height*depth, 1) \n",
    "    \"\"\"\n",
    "    ### START CODE HERE ### (1 line of code) \n",
    "    v = image.reshape((image.shape[0]*image.shape[1]*image.shape[2]),1) \n",
    "    ### END CODE HERE ###\n",
    "    return v"
   ]
  },
  {
   "cell_type": "code",
   "execution_count": 6,
   "metadata": {
    "collapsed": true
   },
   "outputs": [],
   "source": [
    "# GRADED FUNCTION: normalizeRows \n",
    "def normalizeRows(x):\n",
    "    \"\"\" \n",
    "    Implement a function that normalizes each row of the matrix x (to have unit length).\n",
    "    Argument: \n",
    "    x -- A numpy matrix of shape (n, m)\n",
    "    Returns:\n",
    "    x -- The normalized (by row) numpy matrix. You are allowed to modify x.\n",
    "    \"\"\"\n",
    "    ### START CODE HERE ### (2 lines of code) \n",
    "    # Compute x_norm as the norm 2 of x.\n",
    "    # Use np.linalg.norm(..., ord = 2, axis = ..., keepdims = True)\n",
    "    # linalg=linear（线性）+algebra（代数），norm则表示范数。\n",
    "    # ord=2，代表求的范数是：平方和开根号\n",
    "    # ord=1，代表求得范数是：取绝对值再求和\n",
    "    x_norm = np.linalg.norm(x,axis=1,keepdims=True)\n",
    "    # Divide x by its norm. \n",
    "    x = x/x_norm \n",
    "    ### END CODE HERE ###\n",
    "    return x"
   ]
  },
  {
   "cell_type": "code",
   "execution_count": 7,
   "metadata": {},
   "outputs": [
    {
     "name": "stdout",
     "output_type": "stream",
     "text": [
      "normalizeRows(x) = [[ 0.          0.6         0.8       ]\n",
      " [ 0.13736056  0.82416338  0.54944226]]\n"
     ]
    }
   ],
   "source": [
    "x = np.array([[0, 3, 4], [1, 6, 4]]) \n",
    "print(\"normalizeRows(x) = \" + str(normalizeRows(x)))"
   ]
  },
  {
   "cell_type": "code",
   "execution_count": 8,
   "metadata": {
    "collapsed": true
   },
   "outputs": [],
   "source": [
    "# GRADED FUNCTION: softmax \n",
    "def softmax(x): \n",
    "    \"\"\"\n",
    "    Calculates the softmax for each row of the input x.\n",
    "    Your code should work for a row vector and also for matrices of shape (n, m).\n",
    "    Argument: \n",
    "    x -- A numpy matrix of shape (n,m)\n",
    "    Returns: \n",
    "    s -- A numpy matrix equal to the softmax of x, of shape (n,m) \"\"\"\n",
    "    # Apply exp() element-wise to x. Use np.exp(...). \n",
    "    x_exp = np.exp(x)\n",
    "    # Create a vector x_sum that sums each row of x_exp. Use np.sum(..., axis = 1, keepdims = True).\n",
    "    x_sum = np.sum(x_exp,axis = 1,keepdims = True)\n",
    "    # Compute softmax(x) by dividing x_exp by x_sum. It should automatically use numpy broadcasting.\n",
    "    s = x_exp/x_sum\n",
    "    return s"
   ]
  },
  {
   "cell_type": "code",
   "execution_count": 9,
   "metadata": {},
   "outputs": [
    {
     "name": "stdout",
     "output_type": "stream",
     "text": [
      "softmax(x) = [[ 0.01321289  0.26538793  0.72139918]\n",
      " [ 0.00589975  0.8756006   0.11849965]]\n"
     ]
    }
   ],
   "source": [
    "x = np.array([[0, 3, 4], [1, 6, 4]]) \n",
    "print(\"softmax(x) = \" + str(softmax(x)))"
   ]
  },
  {
   "cell_type": "markdown",
   "metadata": {},
   "source": [
    "## Vectorization "
   ]
  },
  {
   "cell_type": "code",
   "execution_count": 10,
   "metadata": {},
   "outputs": [
    {
     "name": "stdout",
     "output_type": "stream",
     "text": [
      "dot = 278\n",
      " ----- Computation time = 0.0ms\n",
      "outer = [[ 81.  18.  18.  81.   0.  81.  18.  45.   0.   0.  81.  18.  45.   0.\n",
      "    0.]\n",
      " [ 18.   4.   4.  18.   0.  18.   4.  10.   0.   0.  18.   4.  10.   0.\n",
      "    0.]\n",
      " [ 45.  10.  10.  45.   0.  45.  10.  25.   0.   0.  45.  10.  25.   0.\n",
      "    0.]\n",
      " [  0.   0.   0.   0.   0.   0.   0.   0.   0.   0.   0.   0.   0.   0.\n",
      "    0.]\n",
      " [  0.   0.   0.   0.   0.   0.   0.   0.   0.   0.   0.   0.   0.   0.\n",
      "    0.]\n",
      " [ 63.  14.  14.  63.   0.  63.  14.  35.   0.   0.  63.  14.  35.   0.\n",
      "    0.]\n",
      " [ 45.  10.  10.  45.   0.  45.  10.  25.   0.   0.  45.  10.  25.   0.\n",
      "    0.]\n",
      " [  0.   0.   0.   0.   0.   0.   0.   0.   0.   0.   0.   0.   0.   0.\n",
      "    0.]\n",
      " [  0.   0.   0.   0.   0.   0.   0.   0.   0.   0.   0.   0.   0.   0.\n",
      "    0.]\n",
      " [  0.   0.   0.   0.   0.   0.   0.   0.   0.   0.   0.   0.   0.   0.\n",
      "    0.]\n",
      " [ 81.  18.  18.  81.   0.  81.  18.  45.   0.   0.  81.  18.  45.   0.\n",
      "    0.]\n",
      " [ 18.   4.   4.  18.   0.  18.   4.  10.   0.   0.  18.   4.  10.   0.\n",
      "    0.]\n",
      " [ 45.  10.  10.  45.   0.  45.  10.  25.   0.   0.  45.  10.  25.   0.\n",
      "    0.]\n",
      " [  0.   0.   0.   0.   0.   0.   0.   0.   0.   0.   0.   0.   0.   0.\n",
      "    0.]\n",
      " [  0.   0.   0.   0.   0.   0.   0.   0.   0.   0.   0.   0.   0.   0.\n",
      "    0.]]\n",
      " ----- Computation time = 0.0ms\n",
      "278.0\n",
      "elementwise multiplication = [ 81.   4.  10.   0.   0.  63.  10.   0.   0.   0.  81.   4.  25.   0.   0.]\n",
      " ----Computation time = 0.0ms\n",
      "[ 0.  0.  0.]\n",
      "0\n",
      "1\n",
      "2\n",
      "gdot = [ 21.10006234  17.25118221  25.76369377]\n",
      " ----- Computation time = 0.0ms\n"
     ]
    }
   ],
   "source": [
    "import time\n",
    "x1 = [9, 2, 5, 0, 0, 7, 5, 0, 0, 0, 9, 2, 5, 0, 0] \n",
    "x2 = [9, 2, 2, 9, 0, 9, 2, 5, 0, 0, 9, 2, 5, 0, 0]\n",
    "\n",
    "### CLASSIC DOT PRODUCT OF VECTORS IMPLEMENTATION ### \n",
    "#dot矩阵乘法：每一行对应位置元素相乘再求和，x和y\n",
    "tic = time.process_time() \n",
    "dot = 0 \n",
    "for i in range(len(x1)): \n",
    "    dot+= x1[i]*x2[i] \n",
    "toc = time.process_time() \n",
    "print (\"dot = \" + str(dot) + \"\\n ----- Computation time = \" + \n",
    "       str(1000*(toc - tic)) + \"ms\"),\n",
    "\n",
    "### CLASSIC OUTER PRODUCT IMPLEMENTATION ### \n",
    "tic = time.process_time() \n",
    "#outer是a的第一个元素跟b的每一个元素相乘作为第一行，第二个元素跟b的每一个元素相乘作为第二个元素...\n",
    "#输出就是x1的元素个数作为行数，x2的元素个数作为列数。即输出矩阵的维度：len(a),len(b)\n",
    "outer = np.zeros((len(x1),len(x2))) \n",
    "    # we create a len(x1)*len(x2) matrix with only zeros, \n",
    "for i in range(len(x1)): \n",
    "        for j in range(len(x2)): \n",
    "            outer[i,j] = x1[i]*x2[j] \n",
    "toc = time.process_time() \n",
    "print (\"outer = \" + str(outer) + \"\\n ----- Computation time = \" + \n",
    "                   str(1000*(toc - tic)) + \"ms\"), \n",
    "\n",
    "### CLASSIC ELEMENTWISE IMPLEMENTATION ### \n",
    "tic = time.process_time()\n",
    "#multiply是对应位相乘(但不求和,sum(np.multiply(x1,x2))=np.dot(x1,x2))\n",
    "mul = np.zeros(len(x1)) \n",
    "for i in range(len(x1)): \n",
    "    mul[i] = x1[i]*x2[i] \n",
    "toc = time.process_time() \n",
    "print(sum(mul))\n",
    "print (\"elementwise multiplication = \" + str(mul) + \"\\n ----Computation time = \" + \n",
    "       str(1000*(toc - tic)) + \"ms\"),\n",
    "### CLASSIC GENERAL DOT PRODUCT IMPLEMENTATION ### \n",
    "W = np.random.rand(3,len(x1)) # Random 3*len(x1) numpy array \n",
    "tic = time.process_time() \n",
    "#shape函数是numpy.core.fromnumeric中的函数，它的功能是读取矩阵的长度\n",
    "#比如shape[0]就是读取矩阵第一维度的长度。\n",
    "gdot = np.zeros(W.shape[0])\n",
    "print(gdot)\n",
    "#W的第一行和x1做dot运算，即相乘再求和，作为第一个元素。每一行乘完求和为一个元素。\n",
    "for i in range(W.shape[0]): \n",
    "    print(i)\n",
    "    for j in range(len(x1)): \n",
    "        gdot[i] += W[i,j]*x1[j]\n",
    "toc = time.process_time() \n",
    "print (\"gdot = \" + str(gdot) + \"\\n ----- Computation time = \" + str(1000*(toc - tic)) + \"ms\")"
   ]
  },
  {
   "cell_type": "code",
   "execution_count": 25,
   "metadata": {},
   "outputs": [
    {
     "name": "stdout",
     "output_type": "stream",
     "text": [
      "[[18 30]\n",
      " [42 69]]\n",
      "278\n",
      "278\n",
      "278\n",
      "[[1 1]\n",
      " [2 2]]\n",
      "[[3]]\n"
     ]
    }
   ],
   "source": [
    "a = [[1,2,3],[4,5,6]]\n",
    "b = [[1,2],[4,5],[3,6]]\n",
    "a=np.array(a)\n",
    "b=np.array(b)\n",
    "x1 = [9, 2, 5, 0, 0, 7, 5, 0, 0, 0, 9, 2, 5, 0, 0] \n",
    "x2 = [9, 2, 2, 9, 0, 9, 2, 5, 0, 0, 9, 2, 5, 0, 0]\n",
    "x1=np.array(x1)\n",
    "x2=np.array(x2)\n",
    "dot=np.dot(a,b)\n",
    "dot1=np.dot(x1,x2.T)\n",
    "dot2=np.dot(x1,x2)\n",
    "print(dot)\n",
    "print(dot1)\n",
    "print(dot2)\n",
    "dot3 = np.dot(x1.T,x2.T)\n",
    "print(dot3)\n",
    "w=np.array([[1],[2]])\n",
    "Y=np.array([[1],[1]])\n",
    "#print(np.dot(w,Y))\n",
    "print(np.dot(w,Y.T))\n",
    "print(np.dot(w.T,Y))"
   ]
  },
  {
   "cell_type": "code",
   "execution_count": 12,
   "metadata": {},
   "outputs": [
    {
     "name": "stdout",
     "output_type": "stream",
     "text": [
      "dot = 278\n",
      " ----- Computation time = 0.0ms\n",
      "outer = [[81 18 18 81  0 81 18 45  0  0 81 18 45  0  0]\n",
      " [18  4  4 18  0 18  4 10  0  0 18  4 10  0  0]\n",
      " [45 10 10 45  0 45 10 25  0  0 45 10 25  0  0]\n",
      " [ 0  0  0  0  0  0  0  0  0  0  0  0  0  0  0]\n",
      " [ 0  0  0  0  0  0  0  0  0  0  0  0  0  0  0]\n",
      " [63 14 14 63  0 63 14 35  0  0 63 14 35  0  0]\n",
      " [45 10 10 45  0 45 10 25  0  0 45 10 25  0  0]\n",
      " [ 0  0  0  0  0  0  0  0  0  0  0  0  0  0  0]\n",
      " [ 0  0  0  0  0  0  0  0  0  0  0  0  0  0  0]\n",
      " [ 0  0  0  0  0  0  0  0  0  0  0  0  0  0  0]\n",
      " [81 18 18 81  0 81 18 45  0  0 81 18 45  0  0]\n",
      " [18  4  4 18  0 18  4 10  0  0 18  4 10  0  0]\n",
      " [45 10 10 45  0 45 10 25  0  0 45 10 25  0  0]\n",
      " [ 0  0  0  0  0  0  0  0  0  0  0  0  0  0  0]\n",
      " [ 0  0  0  0  0  0  0  0  0  0  0  0  0  0  0]]\n",
      " ----- Computation time = 0.0ms\n",
      "elementwise multiplication = [81  4 10  0  0 63 10  0  0  0 81  4 25  0  0]\n",
      " ----Computation time = 0.0ms\n",
      "gdot = [ 21.10006234  17.25118221  25.76369377]\n",
      " ----- Computation time = 15.625ms\n"
     ]
    },
    {
     "data": {
      "text/plain": [
       "(None,)"
      ]
     },
     "execution_count": 12,
     "metadata": {},
     "output_type": "execute_result"
    }
   ],
   "source": [
    "### VECTORIZED DOT PRODUCT OF VECTORS ### \n",
    "tic = time.process_time() \n",
    "#dot矩阵乘法：对应相乘再求和\n",
    "dot = np.dot(x1,x2) \n",
    "toc = time.process_time() \n",
    "print (\"dot = \" + str(dot) + \"\\n ----- Computation time = \" + \n",
    "       str(1000*(toc - tic)) + \"ms\"),\n",
    "### VECTORIZED OUTER PRODUCT ### \n",
    "tic = time.process_time() \n",
    "#outer是a的第一个元素跟b的每一个元素相乘作为第一行，第二个元素跟b的每一个元素相乘作为第二个元素...\n",
    "outer = np.outer(x1,x2) \n",
    "toc = time.process_time() \n",
    "print (\"outer = \" + str(outer) + \"\\n ----- Computation time = \" + \n",
    "       str(1000*(toc - tic)) + \"ms\"),\n",
    "### VECTORIZED ELEMENTWISE MULTIPLICATION ### \n",
    "tic = time.process_time() \n",
    "#multiply是对应位相乘(但不求和,sum(np.multiply(x1,x2))=np.dot(x1,x2))\n",
    "mul = np.multiply(x1,x2) \n",
    "toc = time.process_time() \n",
    "print (\"elementwise multiplication = \" + str(mul) + \"\\n ----Computation time = \" + \n",
    "       str(1000*(toc - tic)) + \"ms\"),\n",
    "### VECTORIZED GENERAL DOT PRODUCT ### \n",
    "tic = time.process_time() \n",
    "dot = np.dot(W,x1)\n",
    "toc = time.process_time() \n",
    "print (\"gdot = \" + str(dot) + \"\\n ----- Computation time = \" + \n",
    "       str(1000*(toc - tic)) + \"ms\"), \n",
    "#print( np.sum(np.multiply(W,x1),axis = 1,keepdims = True))\n",
    "#np.max(dot)"
   ]
  },
  {
   "cell_type": "markdown",
   "metadata": {},
   "source": [
    "## L1 loss is defined as:\n",
    "* L1(ˆy,y) =∑ |y(i) − ˆ y(i)| "
   ]
  },
  {
   "cell_type": "code",
   "execution_count": 13,
   "metadata": {
    "collapsed": true
   },
   "outputs": [],
   "source": [
    "# GRADED FUNCTION: L1 \n",
    "def L1(yhat, y): \n",
    "    \"\"\" \n",
    "    Arguments: \n",
    "    yhat -- vector of size m (predicted labels) \n",
    "    y -- vector of size m (true labels)\n",
    "    Returns: \n",
    "    loss -- the value of the L1 loss function defined above \n",
    "    \"\"\"\n",
    "    loss = sum(abs(y-yhat))\n",
    "    return loss"
   ]
  },
  {
   "cell_type": "code",
   "execution_count": 14,
   "metadata": {},
   "outputs": [
    {
     "name": "stdout",
     "output_type": "stream",
     "text": [
      "L1 = 1.1\n"
     ]
    }
   ],
   "source": [
    "yhat = np.array([.9, 0.2, 0.1, .4, .9]) \n",
    "y = np.array([1, 0, 0, 1, 1]) \n",
    "print(\"L1 = \" + str(L1(yhat,y))) "
   ]
  },
  {
   "cell_type": "markdown",
   "metadata": {},
   "source": [
    "# L2 loss is defined as \n",
    "* L2(ˆy,y) = ∑(y(i)-^y(i))^2\n",
    "* then “np.dot(x,x)” =∑x(i)^2"
   ]
  },
  {
   "cell_type": "code",
   "execution_count": 33,
   "metadata": {
    "collapsed": true
   },
   "outputs": [],
   "source": [
    "# GRADED FUNCTION: L2 \n",
    "def L2(yhat, y): \n",
    "    \"\"\" \n",
    "    Arguments: \n",
    "    yhat -- vector of size m (predicted labels) \n",
    "    y -- vector of size m (true labels)\n",
    "    Returns: \n",
    "    loss -- the value of the L2 loss function defined above \n",
    "    \"\"\"\n",
    "    loss = np.dot(y-yhat,y-yhat)\n",
    "    return loss"
   ]
  },
  {
   "cell_type": "code",
   "execution_count": 34,
   "metadata": {},
   "outputs": [
    {
     "name": "stdout",
     "output_type": "stream",
     "text": [
      "L2 = 0.43\n"
     ]
    }
   ],
   "source": [
    "yhat = np.array([.9, 0.2, 0.1, .4, .9]) \n",
    "y = np.array([1, 0, 0, 1, 1]) \n",
    "print(\"L2 = \" + str(L2(yhat,y))) "
   ]
  }
 ],
 "metadata": {
  "kernelspec": {
   "display_name": "Python 3",
   "language": "python",
   "name": "python3"
  },
  "language_info": {
   "codemirror_mode": {
    "name": "ipython",
    "version": 3
   },
   "file_extension": ".py",
   "mimetype": "text/x-python",
   "name": "python",
   "nbconvert_exporter": "python",
   "pygments_lexer": "ipython3",
   "version": "3.6.3"
  }
 },
 "nbformat": 4,
 "nbformat_minor": 2
}
